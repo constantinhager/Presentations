{
    "metadata": {
        "kernelspec": {
            "name": ".net-powershell",
            "display_name": ".NET (PowerShell)",
            "language": "PowerShell"
        },
        "language_info": {
            "name": "PowerShell",
            "version": "7.0",
            "mimetype": "text/x-powershell",
            "file_extension": ".ps1",
            "pygments_lexer": "powershell"
        }
    },
    "nbformat_minor": 2,
    "nbformat": 4,
    "cells": [
        {
            "cell_type": "markdown",
            "source": [
                "# PowerShell User Group innsalzach 08.07.2021\n",
                "\n",
                "## PowerShell DSC with Azure Automation DSC"
            ],
            "metadata": {
                "azdata_cell_guid": "baad8e63-d535-4f6a-ac96-334b85c8fb17"
            },
            "attachments": {}
        },
        {
            "cell_type": "markdown",
            "source": [
                "## What is DSC?"
            ],
            "metadata": {
                "azdata_cell_guid": "e8297cc5-619c-460f-8175-448a6f0863d6"
            },
            "attachments": {}
        },
        {
            "cell_type": "markdown",
            "source": [
                "DSC (Desired State Configuration) is a platform where you can manage and develop your infrastructure with Configuration as Code. You write a DSC Configuration in a declarative way to describe the target state of your Infrastructure."
            ],
            "metadata": {
                "azdata_cell_guid": "dc3d2726-cace-4094-9cbf-1c39df10b36c"
            },
            "attachments": {}
        },
        {
            "cell_type": "markdown",
            "source": [
                "### Declarative vs. Imperative Code\n",
                "\n",
                "I used declarative above but have not told you about what that means.\n",
                "\n",
                "**Imperative:**\n",
                "\n",
                "PowerShell executes what we develop and executes It. We as developers have to for example care about the error handling and the repetetive execution. An example of imperative code would be:"
            ],
            "metadata": {
                "azdata_cell_guid": "4d025a27-5e44-43c6-bc4c-5262315591b4"
            },
            "attachments": {}
        },
        {
            "cell_type": "code",
            "source": [
                "#Check and install ASP.NET 4.5 feature\r\n",
                "If (-not (Get-WindowsFeature \"Web-Asp-Net45\").Installed) {\r\n",
                "    try {\r\n",
                "        Add-WindowsFeature Web-Asp-Net45\r\n",
                "    }\r\n",
                "    catch {\r\n",
                "        Write-Error $_\r\n",
                "    }\r\n",
                "}"
            ],
            "metadata": {
                "azdata_cell_guid": "604dc338-8d74-4b20-9c26-5f93aaf788b6"
            },
            "outputs": [],
            "execution_count": null
        },
        {
            "cell_type": "markdown",
            "source": [
                "**Declarative:**\n",
                "\n",
                "We as developers define what needs to be done and not how it needs to be done. We do not care how to get to the desired state. The underlying platform (DSC) has to know that. An example of declarative code would be:"
            ],
            "metadata": {
                "azdata_cell_guid": "1b6fa6bc-2113-43ba-a690-c9b17b0f6878"
            },
            "attachments": {}
        },
        {
            "cell_type": "code",
            "source": [
                "Configuration WebSiteConfig\r\n",
                "{\r\n",
                "    Node MyWebServer\r\n",
                "    {\r\n",
                "        WindowsFeature IIS\r\n",
                "        {\r\n",
                "            Ensure = \"Present\"\r\n",
                "            Name = \"Web-Asp-Net45\"\r\n",
                "        }      \r\n",
                "    }\r\n",
                "}"
            ],
            "metadata": {
                "azdata_cell_guid": "f18d6d20-9199-43bc-8262-cd094c478d5e"
            },
            "outputs": [],
            "execution_count": null
        },
        {
            "cell_type": "markdown",
            "source": [
                "### Important Terms in DSC\n",
                "\n",
                "**Configurations:**\n",
                "\n",
                "The declarative PowerShell scripts which define the desired state for the infrastructure. The configurations calls the DSC resources to bring the system in the desired state (\"make it so\").\n",
                "\n",
                "They get \"compiled\" into a MOF (Managed Object Format) - File. The MOF - File is executed by the LCM.\n",
                "\n",
                "**Resource:**\n",
                "\n",
                "They contain the code that put and keep the target of a configuration in the specified state.\n",
                "\n",
                "Resouces are PowerShell modules with a specific file structure.\n",
                "\n",
                "Every resource has the following functions / methods:\n",
                "\n",
                "- Get\n",
                "- Set\n",
                "- Test\n",
                "\n",
                "**LCM (Local Configuration Manager):**\n",
                "\n",
                "This is the core of PowerShell DSC. It is installed on every Windows System that has PowerShell 4.0 and above installed. It executes the MOF - Files and brings the infrastructure in its desired state. If the infrastructure is not in the desired state the LCM will trigger the last know configuration and put the system back in the desired state (Configuration drift).\n",
                "\n",
                "  \n",
                "\n",
                "The state of the LCM can be checked with"
            ],
            "metadata": {
                "azdata_cell_guid": "4fd89d46-cb83-4dea-9e3e-26987ce40451"
            },
            "attachments": {}
        },
        {
            "cell_type": "code",
            "source": [
                "Get-DscLocalConfigurationManager"
            ],
            "metadata": {
                "azdata_cell_guid": "f24c4171-84b0-4344-b3ed-edea5693b443"
            },
            "outputs": [],
            "execution_count": null
        },
        {
            "cell_type": "markdown",
            "source": [
                "If you want to configure the LCM you have to write a special mof file (meta.mof).\n",
                "\n",
                "After that you execute"
            ],
            "metadata": {
                "azdata_cell_guid": "1a84e446-6dad-48b2-984c-19791b01e481"
            },
            "attachments": {}
        },
        {
            "cell_type": "code",
            "source": [
                "Set-DscLocalConfigurationManager -Path <Path to meta.mof (not with file name)>"
            ],
            "metadata": {
                "azdata_cell_guid": "f9337933-35e0-4924-a69a-1516b43b5afc"
            },
            "outputs": [],
            "execution_count": null
        },
        {
            "cell_type": "markdown",
            "source": [
                "If you want to read further [Configure LCM](https://nedimmehic.org/2019/05/06/desired-state-configuration-dsc-local-configuration-manager-lcm/)."
            ],
            "metadata": {
                "azdata_cell_guid": "92097110-e307-4087-a6a9-73400f703c97"
            },
            "attachments": {}
        },
        {
            "cell_type": "markdown",
            "source": [
                "**Configuration Data**\n",
                "\n",
                "In DSC you normally seperate the configuration and the configuration data. The configuration data is a .ps1 - File and the configuration data is a .psd1 file (PowerShell Data File)\n",
                "\n",
                "  \n",
                "\n",
                "What that means is that you can reuse your DSC Configuration across multiple environments (DEV, TEST, PROD) and only replace the configuration Data (configuration Information). A sample configuration Data file:"
            ],
            "metadata": {
                "azdata_cell_guid": "328466c6-b335-4b8e-ba4a-b0317e61c08d"
            },
            "attachments": {}
        },
        {
            "cell_type": "code",
            "source": [
                "$MyData =\r\n",
                "@{\r\n",
                "    AllNodes =\r\n",
                "    @(\r\n",
                "        @{\r\n",
                "            NodeName           = \"*\"\r\n",
                "            LogPath            = \"C:\\Logs\"\r\n",
                "        },\r\n",
                "\r\n",
                "        @{\r\n",
                "            NodeName = \"VM-1\"\r\n",
                "            SiteContents = \"C:\\Site1\"\r\n",
                "            SiteName = \"Website1\"\r\n",
                "        },\r\n",
                "\r\n",
                "\r\n",
                "        @{\r\n",
                "            NodeName = \"VM-2\"\r\n",
                "            SiteContents = \"C:\\Site2\"\r\n",
                "            SiteName = \"Website2\"\r\n",
                "        }\r\n",
                "    );\r\n",
                "\r\n",
                "    NonNodeData =\r\n",
                "    @{\r\n",
                "        ConfigFileContents = (Get-Content C:\\Template\\Config.xml)\r\n",
                "     }\r\n",
                "}"
            ],
            "metadata": {
                "azdata_cell_guid": "d71e36a8-8806-49ea-943f-67c1163ced3e"
            },
            "outputs": [],
            "execution_count": null
        },
        {
            "cell_type": "markdown",
            "source": [
                "The configuration File referencing the configuration data"
            ],
            "metadata": {
                "azdata_cell_guid": "19a52fb0-b112-4591-bf70-af4b3dc60311"
            },
            "attachments": {}
        },
        {
            "cell_type": "code",
            "source": [
                "configuration WebsiteConfig\r\n",
                "{\r\n",
                "    Import-DscResource -ModuleName xWebAdministration\r\n",
                "\r\n",
                "    node $AllNodes.NodeName\r\n",
                "    {\r\n",
                "        xWebsite Site\r\n",
                "        {\r\n",
                "            Name         = $Node.SiteName\r\n",
                "            PhysicalPath = $Node.SiteContents\r\n",
                "            Ensure       = \"Present\"\r\n",
                "        }\r\n",
                "\r\n",
                "        File ConfigFile\r\n",
                "        {\r\n",
                "            DestinationPath = $Node.SiteContents + \"\\\\config.xml\"\r\n",
                "            Contents = $ConfigurationData.NonNodeData.ConfigFileContents\r\n",
                "        }\r\n",
                "    }\r\n",
                "}"
            ],
            "metadata": {
                "azdata_cell_guid": "02cd5538-b4a3-4722-a4a2-7570e08e1887"
            },
            "outputs": [],
            "execution_count": null
        },
        {
            "cell_type": "markdown",
            "source": [
                "Configuration data can get complex very fast. If you want to manage your configuration data right please use Gaels module [Datum.](https://github.com/gaelcolas/Datum)\n",
                "\n",
                "  \n",
                "\n",
                "Also please have a look at the DSC Workshop repository ([DSCWorkshop](https://github.com/dsccommunity/DscWorkshop/)). This project uses Datum to build the MOF-Files."
            ],
            "metadata": {
                "azdata_cell_guid": "c4ded8c2-8b68-4c28-a464-eb1011beb587"
            },
            "attachments": {}
        },
        {
            "cell_type": "markdown",
            "source": [
                "**Push and Pull Configuration**"
            ],
            "metadata": {
                "azdata_cell_guid": "8dca9ae1-7a2c-4baa-8e19-146ac6494c18"
            }
        },
        {
            "cell_type": "markdown",
            "source": [
                "**Push Configuration**\n",
                "\n",
                "This is the easiest method of executing a DSC configuration against one or more nodes. It is the best solution to test your DSC configuration because you have to run the configuration manually. For initiating the configuration you have to run"
            ],
            "metadata": {
                "azdata_cell_guid": "a730c2f4-540b-4928-91d7-5c74136c01c8"
            },
            "attachments": {}
        },
        {
            "cell_type": "code",
            "source": [
                "Start-DSCConfiguration [-ComputerName] -Path (Path to the folder where the DSC Configs are in)"
            ],
            "metadata": {
                "azdata_cell_guid": "47ee4552-00ae-40d6-af4f-b181853f65f3"
            },
            "outputs": [],
            "execution_count": null
        },
        {
            "cell_type": "markdown",
            "source": [
                "**Pull Configuration**\n",
                "\n",
                "If you want to use pull mode you need a central Windows Server (or Azure Automation DSC) with the Windows DSC feature installed. You call this server the 'Pull Server'. One advantage over the push mode is if a node is not reachable the config will run after the node is reachable again, because the node checks every 15 minutes if there is a change in the nodes configuration and apply it. If you use the push mode you have to check when the node is reachable again and run the DSC configuration manually.\n",
                "\n",
                "All DSC Configurations and the dependent modules are stored on that 'Pull Server'. So you have a central place for all your node configurations.\n",
                "\n",
                "You can setup a pull server as in two ways\n",
                "\n",
                "- SMB\n",
                "- http/https\n",
                "\n",
                "The HTTP Server is mostly used in environments. It is a an IIS Webserver with 2 Websites installed. You can (since Server 2016) install it via Add- Remove Windows Features or via DSC.\n",
                "\n",
                "  \n",
                "\n",
                "The 2 Websites are:\n",
                "\n",
                "- PSDSCPullServer: Will allow nodes to download their configurations\n",
                "- PSDSCComplianceServer: Nodes sent the status to this endpoint so the Compliance Server can react if there is a configuration drift.\n",
                "\n",
                "We will not install a DSC Pull Server today, because we are using Azure Automation DSC today.\n",
                "\n",
                "  \n",
                "\n",
                "If you want to know how to host your own 'Pull Server' you can use this manual ([Install DSC Pull Server](https://www.red-gate.com/simple-talk/sysadmin/powershell/powershell-desired-state-configuration-pull-mode/))"
            ],
            "metadata": {
                "azdata_cell_guid": "53b50c76-cff6-4980-9307-c12f4821cc1e"
            },
            "attachments": {}
        },
        {
            "cell_type": "markdown",
            "source": [
                "## Azure Automation DSC"
            ],
            "metadata": {
                "azdata_cell_guid": "8fb5cc04-f4c0-4edc-95ad-bcaaf2271309"
            },
            "attachments": {}
        },
        {
            "cell_type": "markdown",
            "source": [
                "Azure Automation DSC is a configuration management service that allows you to write, manage, and compile PowerShell Desired State Configuration (DSC)  for nodes in any cloud or on-premises datacenter. It is included in an Automation Account."
            ],
            "metadata": {
                "azdata_cell_guid": "90eee89c-fa59-40af-9022-353c122c8044"
            },
            "attachments": {}
        },
        {
            "cell_type": "markdown",
            "source": [
                "### Why Azure Automation State Configuration?\n",
                "\n",
                "You do not need to host your own service (scalability and secure). The biggest advantage is the rich reporting of Azure Automation DSC because the Windows Server Pull Server does not have this reporting. You have to built the reporting on your own. It also has the Pull Server already set up."
            ],
            "metadata": {
                "azdata_cell_guid": "38b065d3-9967-4769-8462-331f6618d0cf"
            },
            "attachments": {}
        },
        {
            "cell_type": "markdown",
            "source": [
                "# DEMO TIME"
            ],
            "metadata": {
                "azdata_cell_guid": "6d33d4c5-6cba-40de-8e57-fe8b56988852"
            },
            "attachments": {}
        }
    ]
}