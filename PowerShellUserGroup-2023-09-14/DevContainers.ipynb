{
 "cells": [
  {
   "cell_type": "markdown",
   "metadata": {},
   "source": [
    "# Introduction to Dev Containers\n",
    "\n",
    "## What is a Dev Container?\n",
    "\n",
    "Development containers, or dev containers, are Docker containers that are specifically configured to provide a fully featured development environment. \n",
    "\n",
    "You install all of your development tools (like compilers, code generators, doc generators, and so on) in the devcontainer instead of installing all that on your local machine.\n",
    "\n",
    "The Development Containers Specification is a standard for defining how to build and run development containers. It can be found [here](https://containers.dev/implementors/spec/)\n",
    "\n",
    "## Why use a Dev Container?\n",
    "\n",
    "The dev container can be used by all developers on the team. This ensures that all developers have the same development environment. \n",
    "\n",
    "It can be specially configured to match the requirements of the project.\n",
    "\n",
    "## Dev Container and VS Code\n",
    "\n",
    "VS Code has built-in support for dev containers. You can use a dev container to develop your code in VS Code. \n",
    "\n",
    "The VS Code extension ms-vscode-remote.remote-containers is required to use dev containers. It is part of the Remote Development extension pack.\n",
    "\n",
    "You can add a devcontainer to an existing folder with the VS Code command\n",
    "Dev Container: Add Development Container Configuration Files...\n",
    "\n",
    "The following files are added to the folder:\n",
    "- .devcontainer/devcontainer.json\n",
    "optional files:\n",
    "- .devcontainer/Dockerfile\n",
    "- .devcontainer/docker-compose.yml\n",
    "\n",
    "If you open a folder in VS Code that contains a devcontainer.json file, VS Code will prompt you to reopen the folder in the dev container.\n",
    "\n",
    "If you want to open the dev container manually, you can use the VS Code command Remote-Containers: Reopen in Container.\n",
    "\n",
    "[devcontainer.json](./.devcontainer/devcontainer.json)\n"
   ]
  }
 ],
 "metadata": {
  "language_info": {
   "name": "python"
  },
  "orig_nbformat": 4
 },
 "nbformat": 4,
 "nbformat_minor": 2
}
