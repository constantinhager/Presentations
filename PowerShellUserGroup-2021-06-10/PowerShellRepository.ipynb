{
    "metadata": {
        "kernelspec": {
            "name": ".net-powershell",
            "display_name": ".NET (PowerShell)",
            "language": "PowerShell"
        },
        "language_info": {
            "name": "PowerShell",
            "version": "7.0",
            "mimetype": "text/x-powershell",
            "file_extension": ".ps1",
            "pygments_lexer": "powershell"
        },
        "orig_nbformat": 2
    },
    "nbformat_minor": 2,
    "nbformat": 4,
    "cells": [
        {
            "cell_type": "markdown",
            "source": [
                "# PowerShell User Group innsalzach 10.06.2021\n",
                "\n",
                "## Creating your own PowerShell Repository"
            ],
            "metadata": {
                "azdata_cell_guid": "3088a846-e002-4d31-942a-31ba1b10cc13"
            }
        },
        {
            "cell_type": "markdown",
            "source": [
                "## What is a PowerShell Repository?\n",
                "\n",
                "* * *\n",
                "\n",
                "PowerShell packages are Nuget packages so you need some kind of Nuget Feed to create a PowerShell Repository. \n",
                "\n",
                "To access this Nuget Feed you have to register the Nuget Feed locally in PowerShell.\n",
                "\n",
                "To use a PowerShell Repository there is the Module PowerShell Get that comes preinstalled into Windows.\n",
                "\n",
                "There is also PowerShellGet V3 which is currently in Preview and will replace the current version of PowerShell Get which is V2.\n",
                "\n",
                "In a PowerShell repository you can store Scripts, Modules and DSC Resources.   \n",
                "\n",
                "The most well known Repository for PowerShell resources is the [PowerShell Gallery](https://www.powershellgallery.com/)."
            ],
            "metadata": {
                "azdata_cell_guid": "31c6125f-db32-48d5-957b-248571796733"
            }
        },
        {
            "cell_type": "markdown",
            "source": [
                "## Why should you care about using a PowerShell Repository?\r\n",
                "---\r\n",
                "\r\n",
                "If you are in a company where multiple persons / Teams are using PowerShell there has to be some kind of central place where they can store their modules.\r\n",
                "\r\n",
                "\r\n",
                "Furthermore if you use modules that you are not allowed to use from the PowerShell Gallery (regulatory reasons / no internet connection) you can set up your own internal PowerShell repository. \r\n",
                "\r\n",
                "You publish your own content and publish external modules you get for example from the PowerShell Gallery. Before you publish the external code to your internal PowerShell Gallery you get the chance to trust the external code by checking / reading the code and then publish it."
            ],
            "metadata": {
                "azdata_cell_guid": "64bb509b-e533-440f-8cb6-ff56a1892c44"
            }
        },
        {
            "cell_type": "markdown",
            "source": [
                "## Prepare you System to Use a PowerShell Repository\n",
                "\n",
                "* * *\n",
                "\n",
                "In PowerShell Get V2 you need the NuGet Package Provider for using any kind of PowerShell Gallery. The version of PowerShell Get V2 that comes preinstalled with the operating system could be outdated.\n",
                "\n",
                "For safety reasons update PowerShell Get first."
            ],
            "metadata": {
                "azdata_cell_guid": "250e055a-dee3-43d4-8639-5070fcd5945c"
            }
        },
        {
            "cell_type": "code",
            "source": [
                "# Use TLS 1.2 to download something from the PowerShell Gallery ( Very important!! )\n",
                "[Net.ServicePointManager]::SecurityProtocol = [Net.ServicePointManager]::SecurityProtocol -bor [Net.SecurityProtocolType]::Tls12\n",
                "\n",
                "# Install the NuGet Packageprovider\n",
                "Install-PackageProvider -Name NuGet -Force\n",
                "\n",
                "# Install the current version of PowerShell Get V2 (Use Force to install the new version side by side of the old one)\n",
                "Install-Module -Name PowerShellGet -Force\n",
                "\n",
                "# Restart the shell"
            ],
            "metadata": {
                "azdata_cell_guid": "b93fddc1-fc52-45fd-baa9-68608c317e2d",
                "tags": []
            },
            "outputs": [],
            "execution_count": null
        },
        {
            "cell_type": "code",
            "source": [
                "# Import the new PowerShell Get module\r\n",
                "Import-Module -Name PowerShellGet\r\n",
                "\r\n",
                "# Get the imported module version (Version 2.2.3 should be there)\r\n",
                "Get-Module -Name PowerShellGet"
            ],
            "metadata": {
                "azdata_cell_guid": "a5ef840f-86a6-47df-8226-9b657a802b33"
            },
            "outputs": [],
            "execution_count": null
        },
        {
            "cell_type": "markdown",
            "source": [
                "## Create your own internal PowerShell Gallery\r\n",
                "---\r\n",
                "\r\n",
                "I show you the easiest way to set up a local PowerShell Repository by using a fileshare"
            ],
            "metadata": {
                "azdata_cell_guid": "f40717f6-84a4-4a2d-a206-8ae7ecdd4344"
            }
        },
        {
            "cell_type": "code",
            "source": [
                "# Display the current active repositories\r\n",
                "Get-PSRepository"
            ],
            "metadata": {
                "azdata_cell_guid": "15d0e84e-3334-4c37-bbfc-41bc1bb43dd7"
            },
            "outputs": [],
            "execution_count": null
        },
        {
            "cell_type": "code",
            "source": [
                "#Create PowerShell repository folder on server\r\n",
                "$localPath = 'C:\\OnPremRepo' \r\n",
                "New-Item -Path $localPath -ItemType Directory\r\n",
                "\r\n",
                "#Share Powershell repository folder with everyone\r\n",
                "$smbShareParam = @{\r\n",
                "\tName = 'OnPremRepo'\r\n",
                "\tPath = $localPath\r\n",
                "\tDescription = 'In House PS Repository'\r\n",
                "\tFullAccess = 'Everyone'\r\n",
                "}\r\n",
                "New-SmbShare @smbShareParam"
            ],
            "metadata": {
                "azdata_cell_guid": "c00ae2d9-a4fa-4947-a240-bbd9694536dc"
            },
            "outputs": [],
            "execution_count": null
        },
        {
            "cell_type": "code",
            "source": [
                "$remotePath = \"\\\\$env:COMPUTERNAME\\OnPremRepo\"\r\n",
                "$localPsRepoParam = @{\r\n",
                "\tName = 'OnPremRepo'\r\n",
                "\tSourceLocation = $remotePath\r\n",
                "\tPublishLocation = $remotePath\r\n",
                "\tInstallationPolicy = 'Trusted'\r\n",
                "} \r\n",
                "Register-PSRepository @localPsRepoParam\r\n",
                "\r\n",
                "# Hint: If you have a client / server that is not having the PSGallery you can use\r\n",
                "Register-PSRepository -Default\r\n",
                "\r\n",
                "# Check if repository is registered\r\n",
                "Get-PSRepository"
            ],
            "metadata": {
                "azdata_cell_guid": "5e8dcfec-ba4b-4503-902f-aeee194c4486"
            },
            "outputs": [],
            "execution_count": null
        },
        {
            "cell_type": "code",
            "source": [
                "#Create a OSInfo module folder \r\n",
                "New-Item C:\\OSInfo -ItemType Directory\r\n",
                "\r\n",
                "#Create a very simple module\r\n",
                "$moduleCode = @\"\r\n",
                "Function Get-OsInfo\r\n",
                "{\r\n",
                "\tGet-CimInstance -ClassName win32_OperatingSystem | Select CSName, Caption, Version, OSArchitecture\r\n",
                "}\r\n",
                "\"@ \r\n",
                "$moduleCode | Out-File C:\\OSInfo\\OSInfo.psm1\r\n",
                "\r\n",
                "#Load and test the OSInfo module\r\n",
                "Import-Module -Name C:\\OSInfo\r\n",
                "\r\n",
                "#Run module cmdlets\r\n",
                "Get-OSInfo"
            ],
            "metadata": {
                "azdata_cell_guid": "e16e3f64-9f2f-4678-8c38-020400a456f4"
            },
            "outputs": [],
            "execution_count": null
        },
        {
            "cell_type": "code",
            "source": [
                "#Create a powershell module manifest for OSInfo Module\r\n",
                "$moduleMetaDataParam = @{\r\n",
                "\tPath = 'C:\\OSInfo\\OSInfo.psd1'\r\n",
                "\tRootModule = 'OSInfo.psm1'\r\n",
                "\tDescription = 'CIM operating system information module'\r\n",
                "\tAuthor = 'Constantin Hager'\r\n",
                "\tFunctionsToExport = 'Get-OsInfo'\r\n",
                "}\r\n",
                "New-ModuleManifest @moduleMetaDataParam"
            ],
            "metadata": {
                "azdata_cell_guid": "6ef7bdb9-7f22-4fff-a148-750f73f488d7"
            },
            "outputs": [],
            "execution_count": 11
        },
        {
            "cell_type": "code",
            "source": [
                "#Check whats on OnPremRepo powershell repository\r\n",
                "Find-Module -Repository OnPremRepo"
            ],
            "metadata": {
                "azdata_cell_guid": "dfa2ba73-a794-467a-8b64-b038914454ce"
            },
            "outputs": [],
            "execution_count": 12
        },
        {
            "cell_type": "code",
            "source": [
                "#Do web request over TLS1.2 and Publish Module on local PSRepository (Show in File Explorer)\r\n",
                "[Net.ServicePointManager]::SecurityProtocol = [Net.SecurityProtocolType]::Tls12\r\n",
                "Publish-Module -Path C:\\OSInfo -Repository OnPremRepo -Force"
            ],
            "metadata": {
                "azdata_cell_guid": "1ae57f31-c222-4a63-9297-350d00ee7f71"
            },
            "outputs": [],
            "execution_count": 13
        },
        {
            "cell_type": "code",
            "source": [
                "#View the result of OnPremRepo\r\n",
                "Find-Module -Repository OnPremRepo"
            ],
            "metadata": {
                "azdata_cell_guid": "4579ad85-f1ec-47ec-9d34-0358c88040e9"
            },
            "outputs": [],
            "execution_count": null
        },
        {
            "cell_type": "code",
            "source": [
                "#Install and test module from local OnPremRepo\r\n",
                "Install-Module -Name OSInfo -Repository OnPremRepo -Scope CurrentUser\r\n",
                "Get-OsInfo"
            ],
            "metadata": {
                "azdata_cell_guid": "e8cf29dd-c6e1-4461-8687-36e6d8eec411"
            },
            "outputs": [],
            "execution_count": null
        },
        {
            "cell_type": "code",
            "source": [
                "# If you want to upload a script to your gallery use New-ScriptFileInfo for that. This will create the needed information to find It in the gallery.\r\n",
                "# The file should not exist otherwise the cmdlet will fail.\r\n",
                "New-ScriptFileInfo -Path \"C:\\Workfolder\\UpoloadScript.ps1\" -Description \"This is a test upload script\""
            ],
            "metadata": {
                "azdata_cell_guid": "312718cc-a951-491a-b22e-37077f99cc77",
                "tags": []
            },
            "outputs": [],
            "execution_count": 17
        },
        {
            "cell_type": "code",
            "source": [
                "# You can test if the script is a valid ScriptFile for your internal gallery\r\n",
                "Test-ScriptFileInfo -Path \"C:\\Workfolder\\UpoloadScript.ps1\""
            ],
            "metadata": {
                "azdata_cell_guid": "20ffb04e-ac7a-4f6e-a21b-ab02eaa7f9c5"
            },
            "outputs": [],
            "execution_count": null
        },
        {
            "cell_type": "code",
            "source": [
                "# Publish the script to your gallery\r\n",
                "Publish-Script -Path \"C:\\Workfolder\\UpoloadScript.ps1\" -Repository OnPremRepo"
            ],
            "metadata": {
                "azdata_cell_guid": "74a3554b-cc58-4270-9f09-5d25df5cddef"
            },
            "outputs": [],
            "execution_count": 19
        },
        {
            "cell_type": "markdown",
            "source": [
                "## Alternative PowerShell Galleries\r\n",
                "---\r\n",
                "\r\n",
                "\r\n",
                "- [PowerShell Gallery](https://powerShellgallery.com)\r\n",
                "\r\n",
                "Open Source Gallery\r\n",
                "- [NugetGallery](https://github.com/NuGet/NuGetGallery)\r\n",
                "\r\n",
                "SaaS Offerings\r\n",
                "- [MyGet](https://www.myget.org/)\r\n",
                "- [Azure Artifacts](https://azure.microsoft.com/de-de/services/devops/artifacts/) (You have to authenticate every time you query that repository. This issue will be fixed with PowerShell Get V3)\r\n",
                "\r\n",
                "Deploy as a VM\r\n",
                "- [ProGet](https://inedo.com/proget) (a free version is available)\r\n",
                ""
            ],
            "metadata": {
                "azdata_cell_guid": "900577a4-d2b5-4af2-a715-6c18528a4b77"
            }
        },
        {
            "cell_type": "code",
            "source": [
                "# Housekeeping\r\n",
                "Unregister-PSRepository -Name OnPremRepo\r\n",
                "Remove-Item -Path C:\\OSInfo -Force -Recurse\r\n",
                "Remove-Item -Path C:\\OnPremRepo -Force -Recurse"
            ],
            "metadata": {
                "azdata_cell_guid": "3565161f-3be7-4e2c-a577-0a58fe61d427"
            },
            "outputs": [],
            "execution_count": 20
        },
        {
            "cell_type": "markdown",
            "source": [
                "## PowerShell Get V3\n",
                "---\n",
                "\n",
                "Blog Posts from Sydney Smith (Microsoft PM on PowerShell Team)  \n",
                "\n",
                "\\- [PowerShell Get First Blog Post](https://devblogs.microsoft.com/powershell/powershellget-3-0-preview-1/)\n",
                "\n",
                "\\- [PowerShell Get V3 Preview 10](https://devblogs.microsoft.com/powershell/powershellget-3-0-preview-10-release/)"
            ],
            "metadata": {
                "azdata_cell_guid": "2706e8fb-b6a0-483e-8e3c-d3011b20cb4f"
            }
        }
    ]
}